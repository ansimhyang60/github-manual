{
  "nbformat": 4,
  "nbformat_minor": 0,
  "metadata": {
    "colab": {
      "name": "Recommendation_movie.ipynb",
      "provenance": [],
      "collapsed_sections": []
    },
    "kernelspec": {
      "name": "python3",
      "display_name": "Python 3"
    },
    "language_info": {
      "name": "python"
    }
  },
  "cells": [
    {
      "cell_type": "code",
      "execution_count": 90,
      "metadata": {
        "id": "0TzlOcFqhgq4"
      },
      "outputs": [],
      "source": [
        "%matplotlib inline\n",
        "import matplotlib.pyplot as plt\n",
        "from matplotlib import font_manager, rc\n",
        "from matplotlib import font_manager as fm\n",
        "from math import sqrt"
      ]
    },
    {
      "cell_type": "code",
      "source": [
        "font_list=fm.findSystemFonts(fontpaths=None, fontext='ttf')\n",
        "font_list\n",
        "font_name = font_manager.FontProperties(fname='/usr/share/fonts/truetype/liberation/LiberationSans-BoldItalic.ttf') \\\n",
        "                .get_name()\n",
        "rc('font', family=font_name)"
      ],
      "metadata": {
        "id": "JWoRXoGaiCFk"
      },
      "execution_count": 91,
      "outputs": []
    },
    {
      "cell_type": "code",
      "source": [
        "ratings = {\n",
        "    'user1': {\n",
        "        '더배트맨': 2.5,\n",
        "        '언차티드': 3.5,\n",
        "        '엔칸토': 3.0,\n",
        "        '듄': 3.5,\n",
        "        '007': 2.5,\n",
        "        '스파이더맨': 3.0,\n",
        "    },\n",
        "    'user2': {\n",
        "        '더배트맨': 1.0,\n",
        "        '언차티드': 4.5,\n",
        "        '엔칸토': 0.5,\n",
        "        '듄': 1.5,\n",
        "        '007': 4.5,\n",
        "        '스파이더맨': 5.0,\n",
        "    },\n",
        "    'user3': {\n",
        "        '더배트맨': 3.0,\n",
        "        '언차티드': 3.5,\n",
        "        '엔칸토': 1.5,\n",
        "        '듄': 5.0,\n",
        "        '007': 3.0,\n",
        "        '스파이더맨': 3.5,\n",
        "    },\n",
        "    'user4': {\n",
        "        '더배트맨': 2.5,\n",
        "        '언차티드': 3.0,\n",
        "        '듄': 3.5,\n",
        "        '007': 4.0,\n",
        "    },\n",
        "    'user5': {\n",
        "        '언차티드': 3.5,\n",
        "        '엔칸토': 3.0,\n",
        "        '007': 4.5,\n",
        "        '듄': 4.0,\n",
        "        '스파이더맨': 2.5,\n",
        "    },\n",
        "    'user6': {\n",
        "        '더배트맨': 3.0,\n",
        "        '언차티드': 4.0,\n",
        "        '엔칸토': 2.0,\n",
        "        '듄': 3.0,\n",
        "        '007': 3.5,\n",
        "        '스파이더맨': 2.0,\n",
        "    },\n",
        "    'user7': {\n",
        "        '더배트맨': 3.0,\n",
        "        '언차티드': 4.0,\n",
        "        '007': 3.0,\n",
        "        '듄': 5.0,\n",
        "        '스파이더맨': 3.5,\n",
        "    },\n",
        "    'user8': {\n",
        "        '언차티드': 4.5, \n",
        "        '007': 1.0,\n",
        "        '듄': 4.0,\n",
        "    },\n",
        "    'user9': {\n",
        "        '더배트맨': 3.7,\n",
        "        '언차티드': 4.0, \n",
        "        '007': 3.0,\n",
        "        '듄': 4.9,\n",
        "        '엔칸토': 4.1,\n",
        "    }\n",
        "}"
      ],
      "metadata": {
        "id": "hPJlOVbViFzr"
      },
      "execution_count": 92,
      "outputs": []
    },
    {
      "cell_type": "code",
      "source": [
        "def draw_chart(data, name1, name2):\n",
        "  plt.figure(figsize=(8,5))\n",
        "  x_ratings=[]\n",
        "  y_ratings=[]\n",
        "  for i in ratings[name1]:\n",
        "     if i in ratings[name2]:\n",
        "       x_ratings.append(ratings[name1][i])\n",
        "       y_ratings.append(ratings[name2][i])\n",
        "       plt.text(ratings[name1][i], ratings[name2][i], i)\n",
        "  plt.plot(x_ratings, y_ratings, 'g^')\n",
        "  plt.axis([0,6,0,6])\n",
        "  plt.xlabel(name1)\n",
        "  plt.ylabel(name2)\n",
        "  plt.show()"
      ],
      "metadata": {
        "id": "coA0YcsOim3a"
      },
      "execution_count": 93,
      "outputs": []
    },
    {
      "cell_type": "code",
      "source": [
        "draw_chart(ratings, 'user9', 'user3')"
      ],
      "metadata": {
        "colab": {
          "base_uri": "https://localhost:8080/",
          "height": 1000
        },
        "id": "zTVqWEOqiUvy",
        "outputId": "2f7ab299-7234-4d02-bd3d-34871843812f"
      },
      "execution_count": 94,
      "outputs": [
        {
          "output_type": "stream",
          "name": "stderr",
          "text": [
            "/usr/local/lib/python3.7/dist-packages/matplotlib/backends/backend_agg.py:214: RuntimeWarning: Glyph 45908 missing from current font.\n",
            "  font.set_text(s, 0.0, flags=flags)\n",
            "/usr/local/lib/python3.7/dist-packages/matplotlib/backends/backend_agg.py:214: RuntimeWarning: Glyph 48176 missing from current font.\n",
            "  font.set_text(s, 0.0, flags=flags)\n",
            "/usr/local/lib/python3.7/dist-packages/matplotlib/backends/backend_agg.py:214: RuntimeWarning: Glyph 53944 missing from current font.\n",
            "  font.set_text(s, 0.0, flags=flags)\n",
            "/usr/local/lib/python3.7/dist-packages/matplotlib/backends/backend_agg.py:214: RuntimeWarning: Glyph 47592 missing from current font.\n",
            "  font.set_text(s, 0.0, flags=flags)\n",
            "/usr/local/lib/python3.7/dist-packages/matplotlib/backends/backend_agg.py:214: RuntimeWarning: Glyph 50616 missing from current font.\n",
            "  font.set_text(s, 0.0, flags=flags)\n",
            "/usr/local/lib/python3.7/dist-packages/matplotlib/backends/backend_agg.py:214: RuntimeWarning: Glyph 52264 missing from current font.\n",
            "  font.set_text(s, 0.0, flags=flags)\n",
            "/usr/local/lib/python3.7/dist-packages/matplotlib/backends/backend_agg.py:214: RuntimeWarning: Glyph 54000 missing from current font.\n",
            "  font.set_text(s, 0.0, flags=flags)\n",
            "/usr/local/lib/python3.7/dist-packages/matplotlib/backends/backend_agg.py:214: RuntimeWarning: Glyph 46300 missing from current font.\n",
            "  font.set_text(s, 0.0, flags=flags)\n",
            "/usr/local/lib/python3.7/dist-packages/matplotlib/backends/backend_agg.py:214: RuntimeWarning: Glyph 46276 missing from current font.\n",
            "  font.set_text(s, 0.0, flags=flags)\n",
            "/usr/local/lib/python3.7/dist-packages/matplotlib/backends/backend_agg.py:214: RuntimeWarning: Glyph 50644 missing from current font.\n",
            "  font.set_text(s, 0.0, flags=flags)\n",
            "/usr/local/lib/python3.7/dist-packages/matplotlib/backends/backend_agg.py:214: RuntimeWarning: Glyph 52856 missing from current font.\n",
            "  font.set_text(s, 0.0, flags=flags)\n",
            "/usr/local/lib/python3.7/dist-packages/matplotlib/backends/backend_agg.py:214: RuntimeWarning: Glyph 53664 missing from current font.\n",
            "  font.set_text(s, 0.0, flags=flags)\n",
            "/usr/local/lib/python3.7/dist-packages/matplotlib/backends/backend_agg.py:183: RuntimeWarning: Glyph 45908 missing from current font.\n",
            "  font.set_text(s, 0, flags=flags)\n",
            "/usr/local/lib/python3.7/dist-packages/matplotlib/backends/backend_agg.py:183: RuntimeWarning: Glyph 48176 missing from current font.\n",
            "  font.set_text(s, 0, flags=flags)\n",
            "/usr/local/lib/python3.7/dist-packages/matplotlib/backends/backend_agg.py:183: RuntimeWarning: Glyph 53944 missing from current font.\n",
            "  font.set_text(s, 0, flags=flags)\n",
            "/usr/local/lib/python3.7/dist-packages/matplotlib/backends/backend_agg.py:183: RuntimeWarning: Glyph 47592 missing from current font.\n",
            "  font.set_text(s, 0, flags=flags)\n",
            "/usr/local/lib/python3.7/dist-packages/matplotlib/backends/backend_agg.py:183: RuntimeWarning: Glyph 50616 missing from current font.\n",
            "  font.set_text(s, 0, flags=flags)\n",
            "/usr/local/lib/python3.7/dist-packages/matplotlib/backends/backend_agg.py:183: RuntimeWarning: Glyph 52264 missing from current font.\n",
            "  font.set_text(s, 0, flags=flags)\n",
            "/usr/local/lib/python3.7/dist-packages/matplotlib/backends/backend_agg.py:183: RuntimeWarning: Glyph 54000 missing from current font.\n",
            "  font.set_text(s, 0, flags=flags)\n",
            "/usr/local/lib/python3.7/dist-packages/matplotlib/backends/backend_agg.py:183: RuntimeWarning: Glyph 46300 missing from current font.\n",
            "  font.set_text(s, 0, flags=flags)\n",
            "/usr/local/lib/python3.7/dist-packages/matplotlib/backends/backend_agg.py:183: RuntimeWarning: Glyph 46276 missing from current font.\n",
            "  font.set_text(s, 0, flags=flags)\n",
            "/usr/local/lib/python3.7/dist-packages/matplotlib/backends/backend_agg.py:183: RuntimeWarning: Glyph 50644 missing from current font.\n",
            "  font.set_text(s, 0, flags=flags)\n",
            "/usr/local/lib/python3.7/dist-packages/matplotlib/backends/backend_agg.py:183: RuntimeWarning: Glyph 52856 missing from current font.\n",
            "  font.set_text(s, 0, flags=flags)\n",
            "/usr/local/lib/python3.7/dist-packages/matplotlib/backends/backend_agg.py:183: RuntimeWarning: Glyph 53664 missing from current font.\n",
            "  font.set_text(s, 0, flags=flags)\n"
          ]
        },
        {
          "output_type": "display_data",
          "data": {
            "image/png": "[encoded data removed]",
            "text/plain": [
              "<Figure size 576x360 with 1 Axes>"
            ]
          },
          "metadata": {
            "needs_background": "light"
          }
        }
      ]
    },
    {
      "cell_type": "code",
      "source": [
        "def pearson_correlation_coefficient(data, name1, name2):\n",
        "    sumX = 0 # X의 합\n",
        "    sumY = 0 # Y의 합\n",
        "    sumPowX = 0 # X 제곱의 \n",
        "    sumPowY = 0 # Y 제곱의 합\n",
        "    sumXY = 0 # X * Y의 합\n",
        "    count = 0 # 평점을 준 영화 개수 \n",
        "    \n",
        "    for movie in data[name1]: #i = key \n",
        "        if movie in data[name2]: # 같은 영화를 평가 했을때만 처리 \n",
        "            sumX += data[name1][movie]\n",
        "            sumY += data[name2][movie]\n",
        "            sumPowX += pow(data[name1][movie], 2)\n",
        "            sumPowY += pow(data[name2][movie], 2)\n",
        "            sumXY += data[name1][movie] * data[name2][movie]\n",
        "            count += 1\n",
        "    \n",
        "    return (sumXY - ((sumX * sumY) / count) ) / sqrt((sumPowX - (pow(sumX,2) / count)) * (sumPowY - (pow(sumY,2) / count)))"
      ],
      "metadata": {
        "id": "bZFbkIzEnBO1"
      },
      "execution_count": 95,
      "outputs": []
    },
    {
      "cell_type": "code",
      "source": [
        "pearson_correlation_coefficient(ratings, 'user1', 'user3')"
      ],
      "metadata": {
        "colab": {
          "base_uri": "https://localhost:8080/"
        },
        "id": "RO__KUtik9Ke",
        "outputId": "d03b13de-607f-4a57-e6bf-7b5f813eaa06"
      },
      "execution_count": 96,
      "outputs": [
        {
          "output_type": "execute_result",
          "data": {
            "text/plain": [
              "0.4950737714883372"
            ]
          },
          "metadata": {},
          "execution_count": 96
        }
      ]
    },
    {
      "cell_type": "code",
      "source": [
        "pearson_correlation_coefficient(ratings, 'user5', 'user8')"
      ],
      "metadata": {
        "colab": {
          "base_uri": "https://localhost:8080/"
        },
        "id": "_xz07b2tmJ9o",
        "outputId": "d08b3e2d-89c0-49fc-c65e-9a0ca7e3524b"
      },
      "execution_count": 97,
      "outputs": [
        {
          "output_type": "execute_result",
          "data": {
            "text/plain": [
              "-0.9244734516419049"
            ]
          },
          "metadata": {},
          "execution_count": 97
        }
      ]
    },
    {
      "cell_type": "code",
      "source": [
        "def nearest_user(data, name, index=3):\n",
        "    result = []\n",
        "    for u in data:\n",
        "        if name != u:\n",
        "            result.append((pearson_correlation_coefficient(data, name, u), u))\n",
        "    \n",
        "    result.sort()\n",
        "    result.reverse()\n",
        "    \n",
        "    return result[:index]"
      ],
      "metadata": {
        "id": "zmdbgxkXwknB"
      },
      "execution_count": 98,
      "outputs": []
    },
    {
      "cell_type": "code",
      "source": [
        "nearest_user(ratings, 'user1', 5)"
      ],
      "metadata": {
        "colab": {
          "base_uri": "https://localhost:8080/"
        },
        "id": "Jp3G_pNFrD3t",
        "outputId": "e9cc64dd-f729-4b15-e177-ce6e0548dae7"
      },
      "execution_count": 99,
      "outputs": [
        {
          "output_type": "execute_result",
          "data": {
            "text/plain": [
              "[(0.9912407071619299, 'user8'),\n",
              " (0.8964214570007957, 'user7'),\n",
              " (0.7997092494906695, 'user9'),\n",
              " (0.4950737714883372, 'user3'),\n",
              " (0.13957263155977057, 'user6')]"
            ]
          },
          "metadata": {},
          "execution_count": 99
        }
      ]
    },
    {
      "cell_type": "code",
      "source": [
        "nearest_user(ratings, 'user9', 5)"
      ],
      "metadata": {
        "colab": {
          "base_uri": "https://localhost:8080/"
        },
        "id": "E7qWlkH_rdQL",
        "outputId": "2f0c1a8b-9fab-4533-a4ec-ac868d822ca2"
      },
      "execution_count": 100,
      "outputs": [
        {
          "output_type": "execute_result",
          "data": {
            "text/plain": [
              "[(0.928531145399301, 'user7'),\n",
              " (0.8105674873765092, 'user8'),\n",
              " (0.7997092494906686, 'user1'),\n",
              " (0.49529651205466574, 'user3'),\n",
              " (-0.196747750735179, 'user4')]"
            ]
          },
          "metadata": {},
          "execution_count": 100
        }
      ]
    },
    {
      "cell_type": "code",
      "source": [
        "user1 = [2.5,3.5,3.0,3.5,2.5,3.0]\n",
        "user3 = [3.0,3.5,1.5,5.0,3.0,3.5]\n",
        "user5 = [3.5,3.0,4.5,4.0,2.5]\n",
        "user9 = [3.7,4.0,3.0,4.9,4.1]\n",
        "import scipy.stats as stats\n",
        "corr1 = stats.pearsonr(user1, user3)\n",
        "corr2 = stats.pearsonr(user5, user9)\n",
        "print(corr1)\n",
        "print(corr2)"
      ],
      "metadata": {
        "colab": {
          "base_uri": "https://localhost:8080/"
        },
        "id": "UrZ8x5HKw2Tt",
        "outputId": "ebba917d-fd09-4295-899d-433e6292d4ad"
      },
      "execution_count": 101,
      "outputs": [
        {
          "output_type": "stream",
          "name": "stdout",
          "text": [
            "(0.4950737714883372, 0.3180601480969472)\n",
            "(-0.29887031841660666, 0.6252100234026372)\n"
          ]
        }
      ]
    },
    {
      "cell_type": "code",
      "source": [
        "def get_recommendation_movie(data, user):\n",
        "    rcmmdList = []\n",
        "    result = nearest_user(data, user, len(data))\n",
        "    \n",
        "    score = 0 \n",
        "    score_dic = {} # 평점 총합을 위한 dict\n",
        "    similarity_dic = {} # 유사도 총합을 위한 dict\n",
        "    \n",
        "    for similarity, name in result:\n",
        "        # 1. similirity == 0 -> 무시\n",
        "        if similarity < 0:\n",
        "            continue\n",
        "            \n",
        "        # 2. name이 평가하지 않은 영화에 대해서 처리 \n",
        "        for movie in data[name]:\n",
        "            if movie not in data[user]: \n",
        "                score += similarity * data[name][movie] # 3. 영화평점 * 유사도\n",
        "                score_dic.setdefault(movie, 0) # 기본값 설정 \n",
        "                score_dic[movie] += score # 합계 구하기 \n",
        "                \n",
        "                # 4. 조건에 맞는 사람의 유사도의 누적합 구하기 \n",
        "                similarity_dic.setdefault(movie, 0)\n",
        "                similarity_dic[movie] += similarity\n",
        "            \n",
        "            score = 0 \n",
        "    \n",
        "    # 평점 총합/유사도 총합 \n",
        "    for key in score_dic: \n",
        "        score_dic[key] = score_dic[key] / similarity_dic[key]\n",
        "        rcmmdList.append((score_dic[key], key))\n",
        "    \n",
        "    rcmmdList.sort()\n",
        "    rcmmdList.reverse()\n",
        "    \n",
        "    return rcmmdList"
      ],
      "metadata": {
        "id": "JaWb1sWVtPnK"
      },
      "execution_count": 102,
      "outputs": []
    },
    {
      "cell_type": "code",
      "source": [
        " get_recommendation_movie(ratings, 'user8')"
      ],
      "metadata": {
        "colab": {
          "base_uri": "https://localhost:8080/"
        },
        "id": "LuJKrUDRvSP-",
        "outputId": "2853da64-bc21-41ba-a5c5-a223914b2f32"
      },
      "execution_count": 103,
      "outputs": [
        {
          "output_type": "execute_result",
          "data": {
            "text/plain": [
              "[(3.2233799819183644, '스파이더맨'),\n",
              " (3.0216298475933865, '더배트맨'),\n",
              " (2.9490704222575337, '엔칸토')]"
            ]
          },
          "metadata": {},
          "execution_count": 103
        }
      ]
    },
    {
      "cell_type": "code",
      "source": [
        "draw_chart(ratings, 'user8', 'user1')"
      ],
      "metadata": {
        "colab": {
          "base_uri": "https://localhost:8080/",
          "height": 701
        },
        "id": "KcvuDYUgymnT",
        "outputId": "eec677ef-3285-4be6-ecf7-81d5a579e5ab"
      },
      "execution_count": 104,
      "outputs": [
        {
          "output_type": "stream",
          "name": "stderr",
          "text": [
            "/usr/local/lib/python3.7/dist-packages/matplotlib/backends/backend_agg.py:214: RuntimeWarning: Glyph 50616 missing from current font.\n",
            "  font.set_text(s, 0.0, flags=flags)\n",
            "/usr/local/lib/python3.7/dist-packages/matplotlib/backends/backend_agg.py:214: RuntimeWarning: Glyph 52264 missing from current font.\n",
            "  font.set_text(s, 0.0, flags=flags)\n",
            "/usr/local/lib/python3.7/dist-packages/matplotlib/backends/backend_agg.py:214: RuntimeWarning: Glyph 54000 missing from current font.\n",
            "  font.set_text(s, 0.0, flags=flags)\n",
            "/usr/local/lib/python3.7/dist-packages/matplotlib/backends/backend_agg.py:214: RuntimeWarning: Glyph 46300 missing from current font.\n",
            "  font.set_text(s, 0.0, flags=flags)\n",
            "/usr/local/lib/python3.7/dist-packages/matplotlib/backends/backend_agg.py:214: RuntimeWarning: Glyph 46276 missing from current font.\n",
            "  font.set_text(s, 0.0, flags=flags)\n",
            "/usr/local/lib/python3.7/dist-packages/matplotlib/backends/backend_agg.py:183: RuntimeWarning: Glyph 50616 missing from current font.\n",
            "  font.set_text(s, 0, flags=flags)\n",
            "/usr/local/lib/python3.7/dist-packages/matplotlib/backends/backend_agg.py:183: RuntimeWarning: Glyph 52264 missing from current font.\n",
            "  font.set_text(s, 0, flags=flags)\n",
            "/usr/local/lib/python3.7/dist-packages/matplotlib/backends/backend_agg.py:183: RuntimeWarning: Glyph 54000 missing from current font.\n",
            "  font.set_text(s, 0, flags=flags)\n",
            "/usr/local/lib/python3.7/dist-packages/matplotlib/backends/backend_agg.py:183: RuntimeWarning: Glyph 46300 missing from current font.\n",
            "  font.set_text(s, 0, flags=flags)\n",
            "/usr/local/lib/python3.7/dist-packages/matplotlib/backends/backend_agg.py:183: RuntimeWarning: Glyph 46276 missing from current font.\n",
            "  font.set_text(s, 0, flags=flags)\n"
          ]
        },
        {
          "output_type": "display_data",
          "data": {
            "image/png": "[encoded data removed]",
            "text/plain": [
              "<Figure size 576x360 with 1 Axes>"
            ]
          },
          "metadata": {
            "needs_background": "light"
          }
        }
      ]
    },
    {
      "cell_type": "code",
      "source": [
        "draw_chart(ratings, 'user8', 'user1')\n"
      ],
      "metadata": {
        "colab": {
          "base_uri": "https://localhost:8080/",
          "height": 701
        },
        "id": "It3l8elW0zjZ",
        "outputId": "01ee26d4-7f5a-46a4-a3ce-f6c5315bcf36"
      },
      "execution_count": 105,
      "outputs": [
        {
          "output_type": "stream",
          "name": "stderr",
          "text": [
            "/usr/local/lib/python3.7/dist-packages/matplotlib/backends/backend_agg.py:214: RuntimeWarning: Glyph 50616 missing from current font.\n",
            "  font.set_text(s, 0.0, flags=flags)\n",
            "/usr/local/lib/python3.7/dist-packages/matplotlib/backends/backend_agg.py:214: RuntimeWarning: Glyph 52264 missing from current font.\n",
            "  font.set_text(s, 0.0, flags=flags)\n",
            "/usr/local/lib/python3.7/dist-packages/matplotlib/backends/backend_agg.py:214: RuntimeWarning: Glyph 54000 missing from current font.\n",
            "  font.set_text(s, 0.0, flags=flags)\n",
            "/usr/local/lib/python3.7/dist-packages/matplotlib/backends/backend_agg.py:214: RuntimeWarning: Glyph 46300 missing from current font.\n",
            "  font.set_text(s, 0.0, flags=flags)\n",
            "/usr/local/lib/python3.7/dist-packages/matplotlib/backends/backend_agg.py:214: RuntimeWarning: Glyph 46276 missing from current font.\n",
            "  font.set_text(s, 0.0, flags=flags)\n",
            "/usr/local/lib/python3.7/dist-packages/matplotlib/backends/backend_agg.py:183: RuntimeWarning: Glyph 50616 missing from current font.\n",
            "  font.set_text(s, 0, flags=flags)\n",
            "/usr/local/lib/python3.7/dist-packages/matplotlib/backends/backend_agg.py:183: RuntimeWarning: Glyph 52264 missing from current font.\n",
            "  font.set_text(s, 0, flags=flags)\n",
            "/usr/local/lib/python3.7/dist-packages/matplotlib/backends/backend_agg.py:183: RuntimeWarning: Glyph 54000 missing from current font.\n",
            "  font.set_text(s, 0, flags=flags)\n",
            "/usr/local/lib/python3.7/dist-packages/matplotlib/backends/backend_agg.py:183: RuntimeWarning: Glyph 46300 missing from current font.\n",
            "  font.set_text(s, 0, flags=flags)\n",
            "/usr/local/lib/python3.7/dist-packages/matplotlib/backends/backend_agg.py:183: RuntimeWarning: Glyph 46276 missing from current font.\n",
            "  font.set_text(s, 0, flags=flags)\n"
          ]
        },
        {
          "output_type": "display_data",
          "data": {
            "image/png": "[encoded data removed]",
            "text/plain": [
              "<Figure size 576x360 with 1 Axes>"
            ]
          },
          "metadata": {
            "needs_background": "light"
          }
        }
      ]
    },
    {
      "cell_type": "code",
      "source": [
        "print(pearson_correlation_coefficient(ratings, 'user2', 'user6'))\n",
        "print(pearson_correlation_coefficient(ratings, 'user7', 'user1'))\n",
        "print('-' * 20)\n",
        "print(nearest_user(ratings, 'user8', 3))"
      ],
      "metadata": {
        "colab": {
          "base_uri": "https://localhost:8080/"
        },
        "id": "TaxfShc301EJ",
        "outputId": "fcd81b90-36c2-47bf-e11a-48427fa6668b"
      },
      "execution_count": 106,
      "outputs": [
        {
          "output_type": "stream",
          "name": "stdout",
          "text": [
            "0.3261742025200799\n",
            "0.8964214570007957\n",
            "--------------------\n",
            "[(0.9912407071619299, 'user1'), (0.8105674873765092, 'user9'), (0.7924058156930613, 'user7')]\n"
          ]
        }
      ]
    },
    {
      "cell_type": "code",
      "source": [
        "rcmmdList = get_recommendation_movie(ratings, 'user8')\n",
        "rcmmdList"
      ],
      "metadata": {
        "colab": {
          "base_uri": "https://localhost:8080/"
        },
        "id": "yB4_ze0U03mH",
        "outputId": "ebc55f7d-4ecb-4975-abf2-46ef474cf482"
      },
      "execution_count": 107,
      "outputs": [
        {
          "output_type": "execute_result",
          "data": {
            "text/plain": [
              "[(3.2233799819183644, '스파이더맨'),\n",
              " (3.0216298475933865, '더배트맨'),\n",
              " (2.9490704222575337, '엔칸토')]"
            ]
          },
          "metadata": {},
          "execution_count": 107
        }
      ]
    },
    {
      "cell_type": "code",
      "source": [
        "rcmmdList[0]\n"
      ],
      "metadata": {
        "colab": {
          "base_uri": "https://localhost:8080/"
        },
        "id": "oN6VJIzT05zE",
        "outputId": "148f9ca4-e183-4eef-f179-d2bc81df378c"
      },
      "execution_count": 108,
      "outputs": [
        {
          "output_type": "execute_result",
          "data": {
            "text/plain": [
              "(3.2233799819183644, '스파이더맨')"
            ]
          },
          "metadata": {},
          "execution_count": 108
        }
      ]
    },
    {
      "cell_type": "code",
      "source": [
        ""
      ],
      "metadata": {
        "id": "oTyACVt907SC"
      },
      "execution_count": null,
      "outputs": []
    }
  ]
}